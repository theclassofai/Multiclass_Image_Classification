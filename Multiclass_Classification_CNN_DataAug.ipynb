{
  "nbformat": 4,
  "nbformat_minor": 0,
  "metadata": {
    "colab": {
      "name": "Multiclass_Classification_CNN_DataAug.ipynb",
      "provenance": [],
      "collapsed_sections": [],
      "toc_visible": true,
      "authorship_tag": "ABX9TyPjEhNN0cAnuJzS6Edqy1GV",
      "include_colab_link": true
    },
    "kernelspec": {
      "name": "python3",
      "display_name": "Python 3"
    },
    "language_info": {
      "name": "python"
    },
    "accelerator": "GPU"
  },
  "cells": [
    {
      "cell_type": "markdown",
      "metadata": {
        "id": "view-in-github",
        "colab_type": "text"
      },
      "source": [
        "<a href=\"https://colab.research.google.com/github/theclassofai/Multiclass_Image_Classification/blob/main/Multiclass_Classification_CNN_DataAug.ipynb\" target=\"_parent\"><img src=\"https://colab.research.google.com/assets/colab-badge.svg\" alt=\"Open In Colab\"/></a>"
      ]
    },
    {
      "cell_type": "code",
      "metadata": {
        "id": "rCK-u2PXXgFo"
      },
      "source": [
        "import os\n",
        "os.environ['KAGGLE_USERNAME'] = \"sagihaider\" # username from the json file\n",
        "os.environ['KAGGLE_KEY'] = \"XXX\" # key from the json file"
      ],
      "execution_count": 1,
      "outputs": []
    },
    {
      "cell_type": "code",
      "metadata": {
        "colab": {
          "base_uri": "https://localhost:8080/"
        },
        "id": "XMHpsmUe6Wh0",
        "outputId": "670211df-d17e-4767-e1b3-2e57a42f7175"
      },
      "source": [
        "!kaggle datasets download -d vijaygiitk/multiclass-weather-dataset"
      ],
      "execution_count": 2,
      "outputs": [
        {
          "output_type": "stream",
          "text": [
            "Downloading multiclass-weather-dataset.zip to /content\n",
            " 90% 121M/134M [00:04<00:00, 27.8MB/s] \n",
            "100% 134M/134M [00:04<00:00, 31.1MB/s]\n"
          ],
          "name": "stdout"
        }
      ]
    },
    {
      "cell_type": "code",
      "metadata": {
        "colab": {
          "base_uri": "https://localhost:8080/"
        },
        "id": "WrE3b_HwX64r",
        "outputId": "c403f264-87e2-4b83-8258-058c51770789"
      },
      "source": [
        "# Unzip training data\n",
        "from zipfile import ZipFile\n",
        "file_name = \"/content/multiclass-weather-dataset.zip\"\n",
        "with ZipFile(file_name, 'r') as zip:\n",
        "  zip.extractall()\n",
        "  print('done')"
      ],
      "execution_count": 3,
      "outputs": [
        {
          "output_type": "stream",
          "text": [
            "done\n"
          ],
          "name": "stdout"
        }
      ]
    },
    {
      "cell_type": "markdown",
      "metadata": {
        "id": "SKAmDqKW-8Hr"
      },
      "source": [
        "## Exploratory Data Analysis"
      ]
    },
    {
      "cell_type": "code",
      "metadata": {
        "colab": {
          "base_uri": "https://localhost:8080/"
        },
        "id": "49JoYdpf5brP",
        "outputId": "bfa657a3-9cae-4eff-c452-5c5f95021915"
      },
      "source": [
        "import os\n",
        "# Get all the paths\n",
        "data_dir_list = os.listdir('/content/dataset')\n",
        "print(data_dir_list)\n",
        "path, dirs, files = next(os.walk(\"/content/dataset\"))\n",
        "file_count = len(files)\n",
        "# print(file_count)"
      ],
      "execution_count": 4,
      "outputs": [
        {
          "output_type": "stream",
          "text": [
            "['sunrise', 'cloudy', 'test.csv', 'shine', 'rainy', 'foggy', 'alien_test']\n"
          ],
          "name": "stdout"
        }
      ]
    },
    {
      "cell_type": "code",
      "metadata": {
        "id": "QZmUjGzW51-X"
      },
      "source": [
        "# Make new base directory\n",
        "original_dataset_dir = '/content/dataset'\n",
        "base_dir = '/content/weather-data/'\n",
        "os.mkdir(base_dir)"
      ],
      "execution_count": 5,
      "outputs": []
    },
    {
      "cell_type": "code",
      "metadata": {
        "id": "IT52f9Uq6DWD"
      },
      "source": [
        "#create two folders (train and validation)\n",
        "train_dir = os.path.join(base_dir, 'train')\n",
        "os.mkdir(train_dir)\n",
        "\n",
        "validation_dir = os.path.join(base_dir, 'validation')\n",
        "os.mkdir(validation_dir)\n",
        "\n",
        "#Under train folder create five folders \n",
        "# (cloud, folly, rainy, shine, sunrise)\n",
        "\n",
        "train_cloud_dir = os.path.join(train_dir, 'cloudy')\n",
        "os.mkdir(train_cloud_dir)\n",
        "\n",
        "train_foggy_dir = os.path.join(train_dir, 'foggy')\n",
        "os.mkdir(train_foggy_dir)\n",
        "\n",
        "train_rainy_dir = os.path.join(train_dir, 'rainy')\n",
        "os.mkdir(train_rainy_dir)\n",
        "\n",
        "train_shine_dir = os.path.join(train_dir, 'shine')\n",
        "os.mkdir(train_shine_dir)\n",
        "\n",
        "train_sunrise_dir = os.path.join(train_dir, 'sunrise')\n",
        "os.mkdir(train_sunrise_dir)\n",
        "\n",
        "#Under validation folder create five folders \n",
        "# (cloud, folly, rainy, shine, sunrise)\n",
        "\n",
        "validation_cloud_dir = os.path.join(validation_dir, 'cloudy')\n",
        "os.mkdir(validation_cloud_dir)\n",
        "\n",
        "validation_foggy_dir = os.path.join(validation_dir, 'foggy')\n",
        "os.mkdir(validation_foggy_dir)\n",
        "\n",
        "validation_rainy_dir = os.path.join(validation_dir, 'rainy')\n",
        "os.mkdir(validation_rainy_dir)\n",
        "\n",
        "validation_shine_dir = os.path.join(validation_dir, 'shine')\n",
        "os.mkdir(validation_shine_dir)\n",
        "\n",
        "validation_sunrise_dir = os.path.join(validation_dir, 'sunrise')\n",
        "os.mkdir(validation_sunrise_dir)\n",
        "\n"
      ],
      "execution_count": 6,
      "outputs": []
    },
    {
      "cell_type": "code",
      "metadata": {
        "id": "zHGl2Alq8ITZ"
      },
      "source": [
        "def split_data(SOURCE, TRAINING, VALIDATION, SPLIT_SIZE):\n",
        "    files = []\n",
        "    for filename in os.listdir(SOURCE):\n",
        "        file = SOURCE + filename\n",
        "        if os.path.getsize(file) > 0:\n",
        "            files.append(filename)\n",
        "        else:\n",
        "            print(filename + \" is zero length, so ignoring.\")\n",
        "\n",
        "    training_length = int(len(files) * SPLIT_SIZE)\n",
        "    valid_length = int(len(files) - training_length)\n",
        "    shuffled_set = random.sample(files, len(files))\n",
        "    training_set = shuffled_set[0:training_length]\n",
        "    valid_set = shuffled_set[training_length:]\n",
        "\n",
        "    for filename in training_set:\n",
        "        this_file = SOURCE + filename\n",
        "        destination = TRAINING + filename\n",
        "        copyfile(this_file, destination)\n",
        "\n",
        "    for filename in valid_set:\n",
        "        this_file = SOURCE + filename\n",
        "        destination = VALIDATION + filename\n",
        "        copyfile(this_file, destination)"
      ],
      "execution_count": 7,
      "outputs": []
    },
    {
      "cell_type": "code",
      "metadata": {
        "id": "smSEhUsY8VIH"
      },
      "source": [
        "CLOUDY_SOURCE_DIR = '/content/dataset/cloudy/'\n",
        "TRAINING_CLOUDY_DIR = '/content/weather-data/train/cloudy/'\n",
        "VALID_CLOUDY_DIR = '/content/weather-data/validation/cloudy/'\n",
        "\n",
        "FOGGY_SOURCE_DIR = '/content/dataset/foggy/'\n",
        "TRAINING_FOGGY_DIR = '/content/weather-data/train/foggy/'\n",
        "VALID_FOGGY_DIR = '/content/weather-data/validation/foggy/'\n",
        "\n",
        "RAINY_SOURCE_DIR = '/content/dataset/rainy/'\n",
        "TRAINING_RAINY_DIR = '/content/weather-data/train/rainy/'\n",
        "VALID_RAINY_DIR = '/content/weather-data/validation/rainy/'\n",
        "\n",
        "SHINE_SOURCE_DIR = '/content/dataset/shine/'\n",
        "TRAINING_SHINE_DIR = '/content/weather-data/train/shine/'\n",
        "VALID_SHINE_DIR = '/content/weather-data/validation/shine/'\n",
        "\n",
        "SUNRISE_SOURCE_DIR = '/content/dataset/sunrise/'\n",
        "TRAINING_SUNRISE_DIR = '/content/weather-data/train/sunrise/'\n",
        "VALID_SUNRISE_DIR = '/content/weather-data/validation/sunrise/'"
      ],
      "execution_count": 8,
      "outputs": []
    },
    {
      "cell_type": "code",
      "metadata": {
        "id": "6rDzzaxS87zW"
      },
      "source": [
        "import os\n",
        "import random\n",
        "from shutil import copyfile\n",
        "\n",
        "split_size = .85\n",
        "\n",
        "split_data(CLOUDY_SOURCE_DIR, TRAINING_CLOUDY_DIR, VALID_CLOUDY_DIR, split_size)\n",
        "split_data(FOGGY_SOURCE_DIR, TRAINING_FOGGY_DIR, VALID_FOGGY_DIR, split_size)\n",
        "split_data(RAINY_SOURCE_DIR, TRAINING_RAINY_DIR, VALID_RAINY_DIR, split_size)\n",
        "split_data(SHINE_SOURCE_DIR, TRAINING_SHINE_DIR, VALID_SHINE_DIR, split_size)\n",
        "split_data(SUNRISE_SOURCE_DIR, TRAINING_SUNRISE_DIR, VALID_SUNRISE_DIR, split_size)"
      ],
      "execution_count": 9,
      "outputs": []
    },
    {
      "cell_type": "code",
      "metadata": {
        "colab": {
          "base_uri": "https://localhost:8080/",
          "height": 390
        },
        "id": "xYr8YTYV9Rhe",
        "outputId": "f63590c1-9e94-4298-9a61-9fdcfd227eac"
      },
      "source": [
        "import matplotlib.pyplot as plt\n",
        "import seaborn as sns\n",
        "from matplotlib.image import imread\n",
        "import pathlib\n",
        "\n",
        "image_folder = ['cloudy', 'foggy', 'rainy', 'shine', 'sunrise']\n",
        "nimgs = {}\n",
        "for i in image_folder:\n",
        "    nimages = len(os.listdir('/content/weather-data/train/'+i+'/'))\n",
        "    nimgs[i]=nimages\n",
        "plt.figure(figsize=(9, 6))\n",
        "plt.bar(range(len(nimgs)), list(nimgs.values()), align='center')\n",
        "plt.xticks(range(len(nimgs)), list(nimgs.keys()))\n",
        "plt.title('Distribution of different classes in Training Dataset')\n",
        "plt.show()"
      ],
      "execution_count": 10,
      "outputs": [
        {
          "output_type": "display_data",
          "data": {
            "image/png": "[encoded data removed]",
            "text/plain": [
              "<Figure size 648x432 with 1 Axes>"
            ]
          },
          "metadata": {
            "tags": [],
            "needs_background": "light"
          }
        }
      ]
    },
    {
      "cell_type": "code",
      "metadata": {
        "colab": {
          "base_uri": "https://localhost:8080/"
        },
        "id": "bBDBrhGP-Im1",
        "outputId": "15dba97d-2da5-4494-e8d6-d457e2a259cc"
      },
      "source": [
        "for i in ['cloudy', 'foggy', 'rainy', 'shine', 'sunrise']:\n",
        "    print('Training {} images are: '.format(i)+str(len(os.listdir('/content/weather-data/train/'+i+'/'))))"
      ],
      "execution_count": 11,
      "outputs": [
        {
          "output_type": "stream",
          "text": [
            "Training cloudy images are: 255\n",
            "Training foggy images are: 255\n",
            "Training rainy images are: 255\n",
            "Training shine images are: 212\n",
            "Training sunrise images are: 297\n"
          ],
          "name": "stdout"
        }
      ]
    },
    {
      "cell_type": "code",
      "metadata": {
        "colab": {
          "base_uri": "https://localhost:8080/",
          "height": 390
        },
        "id": "6qo1Plu1-P1w",
        "outputId": "2d0d99b8-ed4a-44fe-e05f-bb6c460aa0ac"
      },
      "source": [
        "image_folder = ['cloudy', 'foggy', 'rainy', 'shine', 'sunrise']\n",
        "nimgs = {}\n",
        "for i in image_folder:\n",
        "    nimages = len(os.listdir('/content/weather-data/validation/'+i+'/'))\n",
        "    nimgs[i]=nimages\n",
        "plt.figure(figsize=(9, 6))\n",
        "plt.bar(range(len(nimgs)), list(nimgs.values()), align='center')\n",
        "plt.xticks(range(len(nimgs)), list(nimgs.keys()))\n",
        "plt.title('Distribution of different classes in Validation Dataset')\n",
        "plt.show()"
      ],
      "execution_count": 12,
      "outputs": [
        {
          "output_type": "display_data",
          "data": {
            "image/png": "[encoded data removed]",
            "text/plain": [
              "<Figure size 648x432 with 1 Axes>"
            ]
          },
          "metadata": {
            "tags": [],
            "needs_background": "light"
          }
        }
      ]
    },
    {
      "cell_type": "code",
      "metadata": {
        "colab": {
          "base_uri": "https://localhost:8080/"
        },
        "id": "LWdNEpsI-z2n",
        "outputId": "cf0e2971-024c-497f-db1a-9f20cc658de7"
      },
      "source": [
        "for i in ['cloudy', 'foggy', 'rainy', 'shine', 'sunrise']:\n",
        "    print('Valid {} images are: '.format(i)+str(len(os.listdir('/content/weather-data/validation/'+i+'/'))))"
      ],
      "execution_count": 13,
      "outputs": [
        {
          "output_type": "stream",
          "text": [
            "Valid cloudy images are: 45\n",
            "Valid foggy images are: 45\n",
            "Valid rainy images are: 45\n",
            "Valid shine images are: 38\n",
            "Valid sunrise images are: 53\n"
          ],
          "name": "stdout"
        }
      ]
    },
    {
      "cell_type": "markdown",
      "metadata": {
        "id": "dVBaGt0B_Nmi"
      },
      "source": [
        "## Deep Learning with Data Augumentation "
      ]
    },
    {
      "cell_type": "code",
      "metadata": {
        "id": "KhZJ_xdd_VhG"
      },
      "source": [
        "from tensorflow.keras.optimizers import Adam\n",
        "from tensorflow.keras.preprocessing.image import ImageDataGenerator\n",
        "\n",
        "from tensorflow.keras.layers import Conv2D, MaxPooling2D, Flatten, Dense, Dropout\n",
        "from tensorflow.keras.models import Sequential\n",
        "\n",
        "from tensorflow.keras.callbacks import EarlyStopping, ModelCheckpoint"
      ],
      "execution_count": 14,
      "outputs": []
    },
    {
      "cell_type": "code",
      "metadata": {
        "id": "w9fhSZNu_all"
      },
      "source": [
        "img_width=256; img_height=256\n",
        "batch_size=16"
      ],
      "execution_count": 15,
      "outputs": []
    },
    {
      "cell_type": "code",
      "metadata": {
        "id": "FMspbg4L_dTG"
      },
      "source": [
        "TRAINING_DIR = '/content/weather-data/train/'\n",
        "train_datagen = ImageDataGenerator(rescale = 1/255.0,\n",
        "                                   rotation_range=30,\n",
        "                                   zoom_range=0.4,\n",
        "                                   horizontal_flip=True)"
      ],
      "execution_count": 16,
      "outputs": []
    },
    {
      "cell_type": "code",
      "metadata": {
        "colab": {
          "base_uri": "https://localhost:8080/"
        },
        "id": "8qxO8hV6_m2B",
        "outputId": "7b4b8407-3a24-4bfd-e1de-15c27c4d8030"
      },
      "source": [
        "train_generator = train_datagen.flow_from_directory(TRAINING_DIR,\n",
        "                                                    batch_size=batch_size,\n",
        "                                                    class_mode='categorical',\n",
        "                                                    target_size=(img_height, img_width))"
      ],
      "execution_count": 17,
      "outputs": [
        {
          "output_type": "stream",
          "text": [
            "Found 1274 images belonging to 5 classes.\n"
          ],
          "name": "stdout"
        }
      ]
    },
    {
      "cell_type": "code",
      "metadata": {
        "colab": {
          "base_uri": "https://localhost:8080/"
        },
        "id": "3hW3KjQz_rXi",
        "outputId": "3a3f9560-4a71-4bff-8ec3-9fcac9e7d0eb"
      },
      "source": [
        "VALIDATION_DIR = '/content/weather-data/validation/'\n",
        "\n",
        "validation_datagen = ImageDataGenerator(rescale = 1/255.0)\n",
        "\n",
        "validation_generator = validation_datagen.flow_from_directory(VALIDATION_DIR,\n",
        "                                                              batch_size=batch_size,\n",
        "                                                              class_mode='categorical',\n",
        "                                                              target_size=(img_height, img_width)\n",
        "                                                             )"
      ],
      "execution_count": 18,
      "outputs": [
        {
          "output_type": "stream",
          "text": [
            "Found 226 images belonging to 5 classes.\n"
          ],
          "name": "stdout"
        }
      ]
    },
    {
      "cell_type": "code",
      "metadata": {
        "id": "STMUpcmZ__no"
      },
      "source": [
        "callbacks = EarlyStopping(monitor='val_loss', patience=5, verbose=1, mode='auto')\n",
        "# autosave best Model\n",
        "best_model_file = '/content/CNN_aug_drop25_best_weights_256.h5'\n",
        "best_model = ModelCheckpoint(best_model_file, monitor='val_acc', verbose = 1, save_best_only = True)"
      ],
      "execution_count": 19,
      "outputs": []
    },
    {
      "cell_type": "code",
      "metadata": {
        "colab": {
          "base_uri": "https://localhost:8080/"
        },
        "id": "yCfDkX9gAS6E",
        "outputId": "ef7cc3bc-b096-41a7-c6d0-82d2966dafec"
      },
      "source": [
        "model = Sequential([\n",
        "    Conv2D(16, (3, 3), activation='relu', input_shape=(img_height, img_width, 3)),\n",
        "    MaxPooling2D(2, 2),\n",
        "    \n",
        "    Conv2D(32, (3, 3), activation='relu'),\n",
        "    MaxPooling2D(2, 2),\n",
        "    \n",
        "    Conv2D(64, (3, 3), activation='relu'),\n",
        "    Conv2D(64, (3, 3), activation='relu'),\n",
        "    MaxPooling2D(2, 2),\n",
        "\t\n",
        "    Conv2D(128, (3, 3), activation='relu'),\n",
        "    Conv2D(128, (3, 3), activation='relu'),\n",
        "    MaxPooling2D(2, 2),\n",
        "    \n",
        "    Conv2D(256, (3, 3), activation='relu'),\n",
        "    Conv2D(256, (3, 3), activation='relu'),\n",
        "    Conv2D(256, (3, 3), activation='relu'),\n",
        "    MaxPooling2D(2, 2),\n",
        "    \n",
        "    Flatten(),\n",
        "    Dense(512, activation='relu'),\n",
        "    Dense(512, activation='relu'),\n",
        "    Dense(5, activation='softmax')\n",
        "])\n",
        "model.summary()"
      ],
      "execution_count": 20,
      "outputs": [
        {
          "output_type": "stream",
          "text": [
            "Model: \"sequential\"\n",
            "_________________________________________________________________\n",
            "Layer (type)                 Output Shape              Param #   \n",
            "=================================================================\n",
            "conv2d (Conv2D)              (None, 254, 254, 16)      448       \n",
            "_________________________________________________________________\n",
            "max_pooling2d (MaxPooling2D) (None, 127, 127, 16)      0         \n",
            "_________________________________________________________________\n",
            "conv2d_1 (Conv2D)            (None, 125, 125, 32)      4640      \n",
            "_________________________________________________________________\n",
            "max_pooling2d_1 (MaxPooling2 (None, 62, 62, 32)        0         \n",
            "_________________________________________________________________\n",
            "conv2d_2 (Conv2D)            (None, 60, 60, 64)        18496     \n",
            "_________________________________________________________________\n",
            "conv2d_3 (Conv2D)            (None, 58, 58, 64)        36928     \n",
            "_________________________________________________________________\n",
            "max_pooling2d_2 (MaxPooling2 (None, 29, 29, 64)        0         \n",
            "_________________________________________________________________\n",
            "conv2d_4 (Conv2D)            (None, 27, 27, 128)       73856     \n",
            "_________________________________________________________________\n",
            "conv2d_5 (Conv2D)            (None, 25, 25, 128)       147584    \n",
            "_________________________________________________________________\n",
            "max_pooling2d_3 (MaxPooling2 (None, 12, 12, 128)       0         \n",
            "_________________________________________________________________\n",
            "conv2d_6 (Conv2D)            (None, 10, 10, 256)       295168    \n",
            "_________________________________________________________________\n",
            "conv2d_7 (Conv2D)            (None, 8, 8, 256)         590080    \n",
            "_________________________________________________________________\n",
            "conv2d_8 (Conv2D)            (None, 6, 6, 256)         590080    \n",
            "_________________________________________________________________\n",
            "max_pooling2d_4 (MaxPooling2 (None, 3, 3, 256)         0         \n",
            "_________________________________________________________________\n",
            "flatten (Flatten)            (None, 2304)              0         \n",
            "_________________________________________________________________\n",
            "dense (Dense)                (None, 512)               1180160   \n",
            "_________________________________________________________________\n",
            "dense_1 (Dense)              (None, 512)               262656    \n",
            "_________________________________________________________________\n",
            "dense_2 (Dense)              (None, 5)                 2565      \n",
            "=================================================================\n",
            "Total params: 3,202,661\n",
            "Trainable params: 3,202,661\n",
            "Non-trainable params: 0\n",
            "_________________________________________________________________\n"
          ],
          "name": "stdout"
        }
      ]
    },
    {
      "cell_type": "code",
      "metadata": {
        "id": "9wAtEeklAf8n"
      },
      "source": [
        "model.compile(optimizer='Adam', \n",
        "              loss='categorical_crossentropy', \n",
        "              metrics =['accuracy'])"
      ],
      "execution_count": 21,
      "outputs": []
    },
    {
      "cell_type": "code",
      "metadata": {
        "colab": {
          "base_uri": "https://localhost:8080/"
        },
        "id": "_Vn4LOhM__qg",
        "outputId": "9215fc7c-2be5-4756-f2f0-54626100d1e7"
      },
      "source": [
        "history = model.fit_generator(train_generator,\n",
        "                              epochs=20,\n",
        "                              verbose=1,\n",
        "                              validation_data=validation_generator,\n",
        "                              callbacks = [best_model]\n",
        "                              )"
      ],
      "execution_count": 22,
      "outputs": [
        {
          "output_type": "stream",
          "text": [
            "/usr/local/lib/python3.7/dist-packages/tensorflow/python/keras/engine/training.py:1844: UserWarning: `Model.fit_generator` is deprecated and will be removed in a future version. Please use `Model.fit`, which supports generators.\n",
            "  warnings.warn('`Model.fit_generator` is deprecated and '\n"
          ],
          "name": "stderr"
        },
        {
          "output_type": "stream",
          "text": [
            "Epoch 1/20\n",
            "80/80 [==============================] - 60s 341ms/step - loss: 1.5876 - accuracy: 0.2690 - val_loss: 1.2051 - val_accuracy: 0.4248\n",
            "WARNING:tensorflow:Can save best model only with val_acc available, skipping.\n",
            "Epoch 2/20\n",
            "80/80 [==============================] - 26s 329ms/step - loss: 1.1343 - accuracy: 0.4901 - val_loss: 0.9963 - val_accuracy: 0.5664\n",
            "WARNING:tensorflow:Can save best model only with val_acc available, skipping.\n",
            "Epoch 3/20\n",
            "80/80 [==============================] - 26s 330ms/step - loss: 1.0471 - accuracy: 0.5130 - val_loss: 1.0142 - val_accuracy: 0.5442\n",
            "WARNING:tensorflow:Can save best model only with val_acc available, skipping.\n",
            "Epoch 4/20\n",
            "80/80 [==============================] - 26s 330ms/step - loss: 1.0188 - accuracy: 0.5226 - val_loss: 0.9488 - val_accuracy: 0.5354\n",
            "WARNING:tensorflow:Can save best model only with val_acc available, skipping.\n",
            "Epoch 5/20\n",
            "80/80 [==============================] - 26s 329ms/step - loss: 0.9834 - accuracy: 0.5516 - val_loss: 0.9299 - val_accuracy: 0.5619\n",
            "WARNING:tensorflow:Can save best model only with val_acc available, skipping.\n",
            "Epoch 6/20\n",
            "80/80 [==============================] - 26s 327ms/step - loss: 0.9495 - accuracy: 0.5691 - val_loss: 1.0855 - val_accuracy: 0.5398\n",
            "WARNING:tensorflow:Can save best model only with val_acc available, skipping.\n",
            "Epoch 7/20\n",
            "80/80 [==============================] - 26s 330ms/step - loss: 0.9370 - accuracy: 0.5757 - val_loss: 0.9042 - val_accuracy: 0.5487\n",
            "WARNING:tensorflow:Can save best model only with val_acc available, skipping.\n",
            "Epoch 8/20\n",
            "80/80 [==============================] - 26s 329ms/step - loss: 0.9345 - accuracy: 0.5626 - val_loss: 1.0676 - val_accuracy: 0.6283\n",
            "WARNING:tensorflow:Can save best model only with val_acc available, skipping.\n",
            "Epoch 9/20\n",
            "80/80 [==============================] - 26s 328ms/step - loss: 0.9837 - accuracy: 0.5370 - val_loss: 0.9939 - val_accuracy: 0.5973\n",
            "WARNING:tensorflow:Can save best model only with val_acc available, skipping.\n",
            "Epoch 10/20\n",
            "80/80 [==============================] - 26s 330ms/step - loss: 0.9117 - accuracy: 0.6041 - val_loss: 0.8237 - val_accuracy: 0.6593\n",
            "WARNING:tensorflow:Can save best model only with val_acc available, skipping.\n",
            "Epoch 11/20\n",
            "80/80 [==============================] - 27s 333ms/step - loss: 0.9014 - accuracy: 0.6489 - val_loss: 0.7999 - val_accuracy: 0.6593\n",
            "WARNING:tensorflow:Can save best model only with val_acc available, skipping.\n",
            "Epoch 12/20\n",
            "80/80 [==============================] - 26s 327ms/step - loss: 0.8286 - accuracy: 0.6351 - val_loss: 0.6997 - val_accuracy: 0.7080\n",
            "WARNING:tensorflow:Can save best model only with val_acc available, skipping.\n",
            "Epoch 13/20\n",
            "80/80 [==============================] - 26s 331ms/step - loss: 0.8412 - accuracy: 0.6471 - val_loss: 0.8926 - val_accuracy: 0.6593\n",
            "WARNING:tensorflow:Can save best model only with val_acc available, skipping.\n",
            "Epoch 14/20\n",
            "80/80 [==============================] - 26s 329ms/step - loss: 0.8158 - accuracy: 0.6549 - val_loss: 0.7320 - val_accuracy: 0.7168\n",
            "WARNING:tensorflow:Can save best model only with val_acc available, skipping.\n",
            "Epoch 15/20\n",
            "80/80 [==============================] - 26s 330ms/step - loss: 0.8099 - accuracy: 0.6533 - val_loss: 0.7432 - val_accuracy: 0.6947\n",
            "WARNING:tensorflow:Can save best model only with val_acc available, skipping.\n",
            "Epoch 16/20\n",
            "80/80 [==============================] - 26s 330ms/step - loss: 0.7937 - accuracy: 0.6796 - val_loss: 0.7669 - val_accuracy: 0.6504\n",
            "WARNING:tensorflow:Can save best model only with val_acc available, skipping.\n",
            "Epoch 17/20\n",
            "80/80 [==============================] - 26s 328ms/step - loss: 0.8598 - accuracy: 0.6134 - val_loss: 0.7974 - val_accuracy: 0.6858\n",
            "WARNING:tensorflow:Can save best model only with val_acc available, skipping.\n",
            "Epoch 18/20\n",
            "80/80 [==============================] - 26s 330ms/step - loss: 0.8038 - accuracy: 0.6312 - val_loss: 0.8152 - val_accuracy: 0.6416\n",
            "WARNING:tensorflow:Can save best model only with val_acc available, skipping.\n",
            "Epoch 19/20\n",
            "80/80 [==============================] - 27s 332ms/step - loss: 0.7564 - accuracy: 0.6766 - val_loss: 0.9042 - val_accuracy: 0.6593\n",
            "WARNING:tensorflow:Can save best model only with val_acc available, skipping.\n",
            "Epoch 20/20\n",
            "80/80 [==============================] - 26s 330ms/step - loss: 0.7830 - accuracy: 0.6691 - val_loss: 0.6743 - val_accuracy: 0.6991\n",
            "WARNING:tensorflow:Can save best model only with val_acc available, skipping.\n"
          ],
          "name": "stdout"
        }
      ]
    },
    {
      "cell_type": "code",
      "metadata": {
        "colab": {
          "base_uri": "https://localhost:8080/",
          "height": 355
        },
        "id": "fbeBi1UeGJkb",
        "outputId": "c6c51993-6a22-4c9f-d93a-86e3f02109a6"
      },
      "source": [
        "acc=history.history['accuracy']\n",
        "val_acc=history.history['val_accuracy']\n",
        "loss=history.history['loss']\n",
        "val_loss=history.history['val_loss']\n",
        "\n",
        "epochs=range(len(acc))\n",
        "\n",
        "fig = plt.figure(figsize=(20,10))\n",
        "plt.plot(epochs, acc, 'r', label=\"Training Accuracy\")\n",
        "plt.plot(epochs, val_acc, 'b', label=\"Validation Accuracy\")\n",
        "plt.xlabel('Epoch')\n",
        "plt.ylabel('Accuracy')\n",
        "plt.title('Training and validation accuracy')\n",
        "plt.legend(loc='lower right')\n",
        "plt.show()"
      ],
      "execution_count": 23,
      "outputs": [
        {
          "output_type": "display_data",
          "data": {
            "image/png": "[encoded data removed]",
            "text/plain": [
              "<Figure size 1440x720 with 1 Axes>"
            ]
          },
          "metadata": {
            "tags": [],
            "needs_background": "light"
          }
        }
      ]
    },
    {
      "cell_type": "code",
      "metadata": {
        "colab": {
          "base_uri": "https://localhost:8080/",
          "height": 374
        },
        "id": "YQypRwoyGZ83",
        "outputId": "7704b263-af39-4b21-f496-6398264091b1"
      },
      "source": [
        "fig2 = plt.figure(figsize=(20,10))\n",
        "plt.plot(epochs, loss, 'r', label=\"Training Loss\")\n",
        "plt.plot(epochs, val_loss, 'b', label=\"Validation Loss\")\n",
        "plt.legend(loc='upper right')\n",
        "plt.xlabel('Epoch')\n",
        "plt.ylabel('Loss')\n",
        "plt.title('Training and validation loss')"
      ],
      "execution_count": 24,
      "outputs": [
        {
          "output_type": "execute_result",
          "data": {
            "text/plain": [
              "Text(0.5, 1.0, 'Training and validation loss')"
            ]
          },
          "metadata": {
            "tags": []
          },
          "execution_count": 24
        },
        {
          "output_type": "display_data",
          "data": {
            "image/png": "[encoded data removed]",
            "text/plain": [
              "<Figure size 1440x720 with 1 Axes>"
            ]
          },
          "metadata": {
            "tags": [],
            "needs_background": "light"
          }
        }
      ]
    },
    {
      "cell_type": "code",
      "metadata": {
        "id": "dF3IdyGgj9jU"
      },
      "source": [
        "## Test Performance on Test Data\n",
        "import pandas as pd\n",
        "import numpy as np\n",
        "from keras.preprocessing.image import load_img, img_to_array\n",
        "\n",
        "def preprocess_image(path):\n",
        "    img = load_img(path, target_size = (img_height, img_width))\n",
        "    a = img_to_array(img)\n",
        "    a = np.expand_dims(a, axis = 0)\n",
        "    a /= 255.\n",
        "    return a"
      ],
      "execution_count": 31,
      "outputs": []
    },
    {
      "cell_type": "code",
      "metadata": {
        "id": "mJjXnnVpkHPJ"
      },
      "source": [
        "test_images_dir = '/content/dataset/alien_test/'\n",
        "test_df = pd.read_csv('/content/dataset/test.csv')"
      ],
      "execution_count": 28,
      "outputs": []
    },
    {
      "cell_type": "code",
      "metadata": {
        "id": "v0TCE5iSkau2"
      },
      "source": [
        "test_dfToList = test_df['Image_id'].tolist()\n",
        "test_ids = [str(item) for item in test_dfToList]\n",
        "\n",
        "test_images = [test_images_dir+item for item in test_ids]\n",
        "test_preprocessed_images = np.vstack([preprocess_image(fn) for fn in test_images])"
      ],
      "execution_count": 32,
      "outputs": []
    },
    {
      "cell_type": "code",
      "metadata": {
        "id": "ldayuPJ6kjvD"
      },
      "source": [
        "np.save('/content/test_preproc_CNN.npy', test_preprocessed_images)"
      ],
      "execution_count": 33,
      "outputs": []
    },
    {
      "cell_type": "code",
      "metadata": {
        "id": "idO7jhtBksWI",
        "outputId": "c3e050fa-0b23-45fc-b59a-5b3666a3cdce",
        "colab": {
          "base_uri": "https://localhost:8080/"
        }
      },
      "source": [
        "array = model.predict(test_preprocessed_images, batch_size=1, verbose=1)\n",
        "answer = np.argmax(array, axis=1)\n",
        "print(answer)"
      ],
      "execution_count": 46,
      "outputs": [
        {
          "output_type": "stream",
          "text": [
            "30/30 [==============================] - 0s 3ms/step\n",
            "[0 0 3 3 0 0 2 0 0 0 4 3 2 0 3 2 2 2 2 2 3 3 3 4 4 4 4 4 4 4]\n"
          ],
          "name": "stdout"
        }
      ]
    },
    {
      "cell_type": "code",
      "metadata": {
        "id": "XBqnNr0_kvja",
        "outputId": "d5a349a8-5220-4ecd-c33f-f9631496ed7e",
        "colab": {
          "base_uri": "https://localhost:8080/"
        }
      },
      "source": [
        "test_df = pd.read_csv('/content/dataset/test.csv')\n",
        "y_true = test_df['labels']\n",
        "y_pred = array\n",
        "# print(y_pred)\n",
        "print(y_true)"
      ],
      "execution_count": 47,
      "outputs": [
        {
          "output_type": "stream",
          "text": [
            "0     0\n",
            "1     0\n",
            "2     0\n",
            "3     0\n",
            "4     1\n",
            "5     1\n",
            "6     1\n",
            "7     1\n",
            "8     1\n",
            "9     1\n",
            "10    1\n",
            "11    1\n",
            "12    1\n",
            "13    1\n",
            "14    2\n",
            "15    2\n",
            "16    2\n",
            "17    2\n",
            "18    2\n",
            "19    2\n",
            "20    3\n",
            "21    3\n",
            "22    3\n",
            "23    4\n",
            "24    4\n",
            "25    4\n",
            "26    4\n",
            "27    4\n",
            "28    4\n",
            "29    4\n",
            "Name: labels, dtype: int64\n"
          ],
          "name": "stdout"
        }
      ]
    },
    {
      "cell_type": "code",
      "metadata": {
        "id": "YEeG6m8ik211"
      },
      "source": [
        "from sklearn.metrics import log_loss\n",
        "loss = log_loss(y_true, y_pred, eps=1e-15, normalize=True, sample_weight=None, labels=None)"
      ],
      "execution_count": 48,
      "outputs": []
    },
    {
      "cell_type": "code",
      "metadata": {
        "id": "cJeF6L3Dk-re",
        "outputId": "33b48469-7b8c-4975-f308-b2f005ca06c3",
        "colab": {
          "base_uri": "https://localhost:8080/"
        }
      },
      "source": [
        "from sklearn.metrics import confusion_matrix\n",
        "conf_mat = confusion_matrix(y_true, answer)\n",
        "conf_mat"
      ],
      "execution_count": 50,
      "outputs": [
        {
          "output_type": "execute_result",
          "data": {
            "text/plain": [
              "array([[2, 0, 0, 2, 0],\n",
              "       [6, 0, 2, 1, 1],\n",
              "       [0, 0, 5, 1, 0],\n",
              "       [0, 0, 0, 3, 0],\n",
              "       [0, 0, 0, 0, 7]])"
            ]
          },
          "metadata": {
            "tags": []
          },
          "execution_count": 50
        }
      ]
    },
    {
      "cell_type": "code",
      "metadata": {
        "id": "EpJCHqjfla9x"
      },
      "source": [
        "train_dir = '/content/weather-data/train/'\n",
        "classes = os.listdir(train_dir)"
      ],
      "execution_count": 51,
      "outputs": []
    },
    {
      "cell_type": "code",
      "metadata": {
        "id": "Pt6qK1rMloRn"
      },
      "source": [
        "import itertools\n",
        "def plot_confusion_matrix(cm, classes,\n",
        "                          normalize=False,\n",
        "                          title='Confusion matrix',\n",
        "                          cmap=plt.cm.Reds):\n",
        "    \"\"\"\n",
        "    This function prints and plots the confusion matrix.\n",
        "    Normalization can be applied by setting `normalize=True`.\n",
        "    \"\"\"\n",
        "    plt.imshow(cm, interpolation='nearest', cmap=cmap)\n",
        "    plt.title(title)\n",
        "    plt.colorbar()\n",
        "    tick_marks = np.arange(len(classes))\n",
        "    plt.xticks(tick_marks, classes, rotation=45)\n",
        "    plt.yticks(tick_marks, classes)\n",
        "\n",
        "    if normalize:\n",
        "        cm = cm.astype('float') / cm.sum(axis=1)[:, np.newaxis]\n",
        "        cm = cm.round(2)\n",
        "        #print(\"Normalized confusion matrix\")\n",
        "    else:\n",
        "        cm=cm\n",
        "        #print('Confusion matrix, without normalization')\n",
        "\n",
        "    #print(cm)\n",
        "\n",
        "    thresh = cm.max() / 2.\n",
        "    for i, j in itertools.product(range(cm.shape[0]), range(cm.shape[1])):\n",
        "        plt.text(j, i, cm[i, j],\n",
        "                 horizontalalignment=\"center\",\n",
        "                 color=\"white\" if cm[i, j] > thresh else \"black\")\n",
        "\n",
        "    plt.tight_layout()\n",
        "    plt.ylabel('True label')\n",
        "    plt.xlabel('Predicted label')"
      ],
      "execution_count": 52,
      "outputs": []
    },
    {
      "cell_type": "code",
      "metadata": {
        "id": "1rKjw0wPlsmP",
        "outputId": "72cc30bd-f629-41b7-e317-e8f5f9b11c38",
        "colab": {
          "base_uri": "https://localhost:8080/",
          "height": 452
        }
      },
      "source": [
        "np.set_printoptions(precision=2)\n",
        "\n",
        "fig1 = plt.figure(figsize=(7,6))\n",
        "plot_confusion_matrix(conf_mat, classes=classes, title='Confusion matrix, without normalization')\n",
        "plt.show()"
      ],
      "execution_count": 53,
      "outputs": [
        {
          "output_type": "display_data",
          "data": {
            "image/png": "[encoded data removed]",
            "text/plain": [
              "<Figure size 504x432 with 2 Axes>"
            ]
          },
          "metadata": {
            "tags": [],
            "needs_background": "light"
          }
        }
      ]
    },
    {
      "cell_type": "code",
      "metadata": {
        "id": "SDqgR-wGm64E",
        "outputId": "dd29cff3-d9bc-47d3-897e-6f99f0fe515d",
        "colab": {
          "base_uri": "https://localhost:8080/"
        }
      },
      "source": [
        "from sklearn.metrics import precision_recall_fscore_support, roc_auc_score\n",
        "\n",
        "precision, recall, f1score, _ = precision_recall_fscore_support(y_true, answer\n",
        "                                                                , average='weighted')"
      ],
      "execution_count": 56,
      "outputs": [
        {
          "output_type": "stream",
          "text": [
            "/usr/local/lib/python3.7/dist-packages/sklearn/metrics/_classification.py:1272: UndefinedMetricWarning: Precision and F-score are ill-defined and being set to 0.0 in labels with no predicted samples. Use `zero_division` parameter to control this behavior.\n",
            "  _warn_prf(average, modifier, msg_start, len(result))\n"
          ],
          "name": "stderr"
        }
      ]
    },
    {
      "cell_type": "code",
      "metadata": {
        "id": "upt-1N0mm7lu"
      },
      "source": [
        ""
      ],
      "execution_count": null,
      "outputs": []
    }
  ]
}